{
 "cells": [
  {
   "cell_type": "code",
   "execution_count": 3,
   "metadata": {},
   "outputs": [
    {
     "name": "stdout",
     "output_type": "stream",
     "text": [
      "[1, 5, 7, 15, 29]\n"
     ]
    }
   ],
   "source": [
    "# Q.01\n",
    "num_list = [1, 5, 7, 15, 16, 22, 28, 29]\n",
    "\n",
    "def get_odd_num(num_list):\n",
    "    odd = []\n",
    "    for x in num_list:\n",
    "        if x % 2 == 1:\n",
    "            odd.append(x)\n",
    "    return odd\n",
    "    \n",
    "print(get_odd_num(num_list))"
   ]
  },
  {
   "cell_type": "code",
   "execution_count": 4,
   "metadata": {},
   "outputs": [
    {
     "name": "stdout",
     "output_type": "stream",
     "text": [
      "where there is a will there is a way\n"
     ]
    }
   ],
   "source": [
    "# Q.02\n",
    "sentence = \"way a is there will a is there where\"\n",
    "\n",
    "def reverse_sentence(sentence):\n",
    "    str = sentence.split()\n",
    "    str = ' '.join(reversed(str))\n",
    "    return str\n",
    "\n",
    "print(reverse_sentence(sentence))"
   ]
  },
  {
   "cell_type": "code",
   "execution_count": 5,
   "metadata": {},
   "outputs": [
    {
     "name": "stdout",
     "output_type": "stream",
     "text": [
      "1번, 평균 : 100.0\n",
      "2번, 평균 : 92.5\n",
      "3번, 평균 : 57.5\n",
      "4번, 평균 : 77.5\n",
      "5번, 평균 : 70.0\n"
     ]
    }
   ],
   "source": [
    "# Q.03\n",
    "score = [(100, 100), (95, 90), (55, 60), (75, 80), (70, 70)]\n",
    "\n",
    "def get_avg(score):\n",
    "    i = 1\n",
    "    for x in score:\n",
    "        print(f\"{i}번, 평균 : {sum(x)/2}\")\n",
    "        i += 1\n",
    "        \n",
    "get_avg(score)"
   ]
  },
  {
   "cell_type": "code",
   "execution_count": 1,
   "metadata": {},
   "outputs": [
    {
     "data": {
      "text/plain": [
       "{'사과': 35, '배': 30, '감': 35, '포도': 10, '귤': 25}"
      ]
     },
     "execution_count": 1,
     "metadata": {},
     "output_type": "execute_result"
    }
   ],
   "source": [
    "# Q.04\n",
    "dict_first = {\"사과\": 30, \"배\": 15, \"감\": 10, \"포도\": 10}\n",
    "dict_second = {\"사과\": 5, \"감\": 25, \"배\": 15, \"귤\": 25}\n",
    "\n",
    "def merge_dict(dict_first, dict_second):\n",
    "    for x in dict_second:\n",
    "        if dict_first.get(x):\n",
    "            dict_first[x] += dict_second[x]\n",
    "        else:\n",
    "            dict_first[x] = dict_second[x]\n",
    "    return dict_first\n",
    "\n",
    "merge_dict(dict_first, dict_second)"
   ]
  },
  {
   "cell_type": "code",
   "execution_count": 2,
   "metadata": {},
   "outputs": [
    {
     "name": "stdout",
     "output_type": "stream",
     "text": [
      "catdogcow\n"
     ]
    }
   ],
   "source": [
    "# Q.05 \n",
    "import re\n",
    "inputs = \"cat32dog16cow5\"\n",
    "\n",
    "def find_string(inputs):\n",
    "    return re.sub(\"[0-9]\", \"\",inputs)    \n",
    "\n",
    "string_list = find_string(inputs)\n",
    "print(string_list)"
   ]
  },
  {
   "cell_type": "code",
   "execution_count": null,
   "metadata": {},
   "outputs": [],
   "source": []
  }
 ],
 "metadata": {
  "kernelspec": {
   "display_name": "tf",
   "language": "python",
   "name": "python3"
  },
  "language_info": {
   "codemirror_mode": {
    "name": "ipython",
    "version": 3
   },
   "file_extension": ".py",
   "mimetype": "text/x-python",
   "name": "python",
   "nbconvert_exporter": "python",
   "pygments_lexer": "ipython3",
   "version": "3.9.13"
  },
  "orig_nbformat": 4,
  "vscode": {
   "interpreter": {
    "hash": "d92db622cb5bb78c2c77e21c3317885bdf8c1e85044705cff7d629a77fb46d17"
   }
  }
 },
 "nbformat": 4,
 "nbformat_minor": 2
}
