{
 "cells": [
  {
   "attachments": {},
   "cell_type": "markdown",
   "metadata": {},
   "source": [
    "📌Q1. 중간고사 기말고사 점수를 따로 받아 저장하는 클래스를 구현해보세요. 단, 생성자의 인스턴스는 private으로 선언되어야하며, 데코레이터를 이용해 데이터를 저장하고, 함수를 이용해 평균값을 출력해보세요.\n",
    "\n",
    "- 자료형의 선언과 데코레이터를 이용해보세요."
   ]
  },
  {
   "cell_type": "code",
   "execution_count": 1,
   "metadata": {},
   "outputs": [
    {
     "name": "stdout",
     "output_type": "stream",
     "text": [
      "62.5\n"
     ]
    }
   ],
   "source": [
    "class Score():\n",
    "    def __init__(self, mid, final):\n",
    "        self.__mid = mid\n",
    "        self.__final = final\n",
    "\n",
    "    @property\n",
    "    def mid(self):\n",
    "        return self.__mid\n",
    "\n",
    "    @property\n",
    "    def final(self):\n",
    "        return self.__final\n",
    "    \n",
    "# 출력함수\n",
    "score = Score(50, 75)\n",
    "print((score.mid + score.final) / 2)"
   ]
  },
  {
   "attachments": {},
   "cell_type": "markdown",
   "metadata": {},
   "source": [
    "📌Q2. 다양한 탈 것을 사용하는 게임을 만드는 중입니다. 빠른 구현을 위해서 이미 구현한 Car 클래스를 이용해서 Bike라는 클래스를 새로 제작하려고 합니다. Car 클래스를 상속받아서 새로운 Bike 클래스를 아래와 같이 출력되도록 구성해보세요.\n",
    "\n",
    "- Bike class는 size 인자를 추가로 가집니다."
   ]
  },
  {
   "cell_type": "code",
   "execution_count": 2,
   "metadata": {},
   "outputs": [
    {
     "name": "stdout",
     "output_type": "stream",
     "text": [
      "gas 2 small\n"
     ]
    }
   ],
   "source": [
    "class Car():\n",
    "    def __init__(self, fuel, wheels) :\n",
    "        self.fuel = fuel\n",
    "        self.wheels = wheels\n",
    "\n",
    "class Bike(Car):\n",
    "    def __init__(self, fuel, wheels, size):\n",
    "        super().__init__(fuel, wheels)\n",
    "        self.size = size\n",
    "\n",
    "# 출력 예시\n",
    "bike = Bike(\"gas\", 2, \"small\")\n",
    "print (bike.fuel, bike.wheels, bike.size) "
   ]
  },
  {
   "attachments": {},
   "cell_type": "markdown",
   "metadata": {},
   "source": [
    "📌Q3. 이번 시험 결과에 대한 데이터를 학과 사무실에서 CSV파일로 전달해줬습니다. 우리는 이 파일을 이용해서 데이터 처리를 진행해야 합니다. 파일 입출력을 이용해 파일 데이터를 리스트로 만들어보세요.\n",
    "\n",
    "- 파일 입출력에 사용하는 open 함수를 이용해 CSV 파일 내부의 데이터를 읽어보세요\n",
    "\n",
    " **CSV파일은 아래 첨부되어있습니다. "
   ]
  },
  {
   "cell_type": "code",
   "execution_count": 3,
   "metadata": {},
   "outputs": [],
   "source": [
    "file_path = r\"..\\data-01-test-score.csv\""
   ]
  },
  {
   "cell_type": "code",
   "execution_count": 4,
   "metadata": {},
   "outputs": [
    {
     "name": "stdout",
     "output_type": "stream",
     "text": [
      "[['73', '80', '75', '152'],\n",
      " ['93', '88', '93', '185'],\n",
      " ['89', '91', '90', '180'],\n",
      " ['96', '98', '100', '196'],\n",
      " ['73', '66', '70', '142'],\n",
      " ['53', '46', '55', '101'],\n",
      " ['69', '74', '77', '149'],\n",
      " ['47', '56', '60', '115'],\n",
      " ['87', '79', '90', '175'],\n",
      " ['79', '70', '88', '164'],\n",
      " ['69', '70', '73', '141'],\n",
      " ['70', '65', '74', '141'],\n",
      " ['93', '95', '91', '184'],\n",
      " ['79', '80', '73', '152'],\n",
      " ['70', '73', '78', '148'],\n",
      " ['93', '89', '96', '192'],\n",
      " ['78', '75', '68', '147'],\n",
      " ['81', '90', '93', '183'],\n",
      " ['88', '92', '86', '177'],\n",
      " ['78', '83', '77', '159'],\n",
      " ['82', '86', '90', '177'],\n",
      " ['86', '82', '89', '175'],\n",
      " ['78', '83', '85', '175'],\n",
      " ['76', '83', '71', '149'],\n",
      " ['96', '93', '95', '192']]\n"
     ]
    }
   ],
   "source": [
    "import csv\n",
    "from pprint import pprint\n",
    "\n",
    "def read_file(file_path):\n",
    "    file = open(file_path, 'r')\n",
    "    file_read = csv.reader(file)\n",
    "    return [x for x in file_read]\n",
    "\n",
    "pprint(read_file(file_path))"
   ]
  },
  {
   "attachments": {},
   "cell_type": "markdown",
   "metadata": {},
   "source": [
    "📌Q4. 우리는 방금 CSV 파일을 읽는 함수를 구현해보았습니다. 하지만 이를 조금 더 효율적으로 사용하기 위해서 클래스로 구성을 진행하려고 합니다. 방금 구현한 함수를 포함한 클래스를 구현해보세요.\n",
    "\n",
    " - merge list를 이용해 리스트 내 데이터의 합을 출력해보세요.\n",
    "\n",
    "- 데이터를 합치기 전 데이터의 자료형을 변경해보세요."
   ]
  },
  {
   "cell_type": "code",
   "execution_count": 5,
   "metadata": {},
   "outputs": [
    {
     "name": "stdout",
     "output_type": "stream",
     "text": [
      "[['73', '80', '75', '152'],\n",
      " ['93', '88', '93', '185'],\n",
      " ['89', '91', '90', '180'],\n",
      " ['96', '98', '100', '196'],\n",
      " ['73', '66', '70', '142'],\n",
      " ['53', '46', '55', '101'],\n",
      " ['69', '74', '77', '149'],\n",
      " ['47', '56', '60', '115'],\n",
      " ['87', '79', '90', '175'],\n",
      " ['79', '70', '88', '164'],\n",
      " ['69', '70', '73', '141'],\n",
      " ['70', '65', '74', '141'],\n",
      " ['93', '95', '91', '184'],\n",
      " ['79', '80', '73', '152'],\n",
      " ['70', '73', '78', '148'],\n",
      " ['93', '89', '96', '192'],\n",
      " ['78', '75', '68', '147'],\n",
      " ['81', '90', '93', '183'],\n",
      " ['88', '92', '86', '177'],\n",
      " ['78', '83', '77', '159'],\n",
      " ['82', '86', '90', '177'],\n",
      " ['86', '82', '89', '175'],\n",
      " ['78', '83', '85', '175'],\n",
      " ['76', '83', '71', '149'],\n",
      " ['96', '93', '95', '192']]\n",
      "[380, 459, 450, 490, 351, 255, 369, 278, 431, 401, 353, 350, 463, 384, 369, 470, 368, 447, 443, 397, 435, 432, 421, 379, 476]\n"
     ]
    }
   ],
   "source": [
    "class ReadCSV():\n",
    "    def __init__(self, file_path) :\n",
    "        self.file_path = file_path\n",
    "\n",
    "    def read_file(self):\n",
    "        file = open(self.file_path, 'r')\n",
    "        file_read = csv.reader(file)\n",
    "        self.csv_list = [x for x in file_read]\n",
    "        return self.csv_list\n",
    "\n",
    "    def merge_list(self):\n",
    "        # str을 int로 변환\n",
    "        csv_list_int = []\n",
    "        for x in range(len(self.csv_list)):\n",
    "            csv_list_int.append(list(map(int, self.csv_list[x])))\n",
    "\n",
    "        # 리스트별 합계 저장\n",
    "        csv_list_sum = []\n",
    "        for x in range(len(csv_list_int)):\n",
    "            csv_list_sum.append(sum(csv_list_int[x]))\n",
    "\n",
    "        return csv_list_sum\n",
    "\n",
    "# 출력 예시\n",
    "read_csv = ReadCSV(file_path)\n",
    "pprint(read_csv.read_file())\n",
    "print(read_csv.merge_list())"
   ]
  },
  {
   "attachments": {},
   "cell_type": "markdown",
   "metadata": {},
   "source": [
    "📌Q5. 이전에 구현한 클래스에서 merge_list의 함수 동작을 변경해야합니다. 단순합계가 아닌 평균을 구하는 함수로 변경해보세요.\n",
    "\n",
    " - 리스트의 데이터를 다루는 함수를 이용해서 구현해보세요.\n",
    "\n",
    "- 최종 평균을 구한 후 오름차순으로 정렬해주세요."
   ]
  },
  {
   "cell_type": "code",
   "execution_count": 6,
   "metadata": {},
   "outputs": [
    {
     "name": "stdout",
     "output_type": "stream",
     "text": [
      "[63.75, 69.5, 87.5, 87.75, 88.25, 92.0, 92.25, 92.25, 94.75, 95.0, 96.0, 99.25, 100.25, 105.25, 107.75, 108.0, 108.75, 110.75, 111.75, 112.5, 114.75, 115.75, 117.5, 119.0, 122.5]\n"
     ]
    }
   ],
   "source": [
    "class ReadCSV():\n",
    "    def __init__(self, file_path) :\n",
    "        self.file_path = file_path\n",
    "\n",
    "    def read_file(self):\n",
    "        file = open(self.file_path, 'r')\n",
    "        file_read = csv.reader(file)\n",
    "        self.csv_list = [x for x in file_read]\n",
    "        return self.csv_list\n",
    "\n",
    "    def merge_list(self):\n",
    "        # read_file로 파일open\n",
    "        self.read_file()\n",
    "\n",
    "        # str을 int로 변환\n",
    "        csv_list_int = []\n",
    "        for x in range(len(self.csv_list)):\n",
    "            csv_list_int.append(list(map(int, self.csv_list[x])))\n",
    "\n",
    "        # 리스트별 합계 저장\n",
    "        csv_list_avg = []\n",
    "        for x in range(len(csv_list_int)):\n",
    "            csv_list_avg.append(sum(csv_list_int[x])/len(csv_list_int[x]))\n",
    "\n",
    "        csv_list_avg.sort()\n",
    "        \n",
    "        return csv_list_avg\n",
    "\n",
    "# 출력 예시\n",
    "read_csv = ReadCSV(file_path)\n",
    "print(read_csv.merge_list())"
   ]
  }
 ],
 "metadata": {
  "kernelspec": {
   "display_name": "tf",
   "language": "python",
   "name": "python3"
  },
  "language_info": {
   "codemirror_mode": {
    "name": "ipython",
    "version": 3
   },
   "file_extension": ".py",
   "mimetype": "text/x-python",
   "name": "python",
   "nbconvert_exporter": "python",
   "pygments_lexer": "ipython3",
   "version": "3.9.13 (main, Oct 13 2022, 21:23:06) [MSC v.1916 64 bit (AMD64)]"
  },
  "orig_nbformat": 4,
  "vscode": {
   "interpreter": {
    "hash": "d92db622cb5bb78c2c77e21c3317885bdf8c1e85044705cff7d629a77fb46d17"
   }
  }
 },
 "nbformat": 4,
 "nbformat_minor": 2
}
