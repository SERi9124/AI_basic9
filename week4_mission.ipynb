{
 "cells": [
  {
   "cell_type": "code",
   "execution_count": 15,
   "metadata": {},
   "outputs": [],
   "source": [
    "import pandas as pd\n",
    "import matplotlib.pyplot as plt\n",
    "import numpy as np"
   ]
  },
  {
   "attachments": {},
   "cell_type": "markdown",
   "metadata": {},
   "source": [
    "📌Q1. 먼저 Pandas에서 지원하는 Series에 대해서 한번 다뤄보겠습니다.아래와 같이 인덱스와 데이터가 주어져있을때 Pandas의 Series 형태로 만들어보세요.\n",
    "\n",
    "- 주어진 데이터에서 10이상 20이하의 데이터만 출력하는 Series를 재정의 해보세요."
   ]
  },
  {
   "cell_type": "code",
   "execution_count": 122,
   "metadata": {},
   "outputs": [
    {
     "data": {
      "text/plain": [
       "HDD    19\n",
       "SSD    11\n",
       "dtype: int64"
      ]
     },
     "execution_count": 122,
     "metadata": {},
     "output_type": "execute_result"
    }
   ],
   "source": [
    "idx = [\"HDD\", \"SSD\", \"USB\", \"CLOUD\"]\n",
    "data = [19, 11, 5, 97]\n",
    "\n",
    "series = pd.Series(data, idx)\n",
    "\n",
    "mask = (series.values > 10) & (series.values < 20)\n",
    "series = series.loc[mask]\n",
    "\n",
    "series"
   ]
  },
  {
   "attachments": {},
   "cell_type": "markdown",
   "metadata": {},
   "source": [
    "📌Q2. 두번째로 Pandas에서 지원하는 Dataframe을 다뤄보도록 하겠습니다. 다음과 같이 과일과 야채 각각 정리된 데이터가 있습니다. 이 두 데이터를 따로 보기엔 효율성이 떨어지니, 각 표에 정리된 데이터를 각각 하나의 데이터 프레임으로 생성한 후 다음 세부 구현을 진행해보세요."
   ]
  },
  {
   "cell_type": "code",
   "execution_count": 123,
   "metadata": {},
   "outputs": [
    {
     "name": "stdout",
     "output_type": "stream",
     "text": [
      "Sum of Top 2 Fruit Price : 230\n",
      "Sum of Top 2 Vegetable Price : 150\n"
     ]
    }
   ],
   "source": [
    "df1 = pd.DataFrame({\"Name\":[\"cherry\", \"mango\", \"potato\", \"onion\"],\n",
    "                    \"Type\":[\"Fruit\", \"Fruit\", \"Vegetable\", \"Vegetable\"],\n",
    "                    \"Price\":[100, 110, 60, 80]})\n",
    "\n",
    "df2 = pd.DataFrame({\"Name\":[\"pepper\", \"carrot\", \"banana\", \"kiwi\"],\n",
    "                    \"Type\":[\"Vegetable\", \"Vegetable\", \"Fruit\", \"Fruit\"],\n",
    "                    \"Price\":[50, 70, 90, 120]})\n",
    "\n",
    "df3 = pd.concat([df1, df2])\n",
    "\n",
    "df_fruit = df3.loc[df3.Type == \"Fruit\"].sort_values(by=\"Price\", ascending=False)\n",
    "df_veg = df3.loc[df3.Type == \"Vegetable\"].sort_values(by=\"Price\", ascending=False)\n",
    "\n",
    "print(f\"Sum of Top 2 Fruit Price : {sum(df_fruit['Price'].iloc[:2])}\")\n",
    "print(f\"Sum of Top 2 Vegetable Price : {sum(df_veg['Price'].iloc[:2])}\")"
   ]
  },
  {
   "attachments": {},
   "cell_type": "markdown",
   "metadata": {},
   "source": [
    "📌Q3. 총 5명에서 게임을 진행했습니다. 총 5개 라운드를 진행했고, 각각 참여자당 5개의 점수를 받았습니다. 주어진 데이터를 dataframe의 형태로 만든 후 각 세부 구현을 진행해보세요.\n",
    "\n",
    "- 참여자의 이름을 index로 해서 각 라운드의 columns를 추가해 데이터를 정리해보세요.\n",
    "- 6번째 라운드의 점수가 아래와 같을 때, 이를 추가해보세요.\n",
    "- 각 데이터의 mean, max, min 값을 출력해보세요."
   ]
  },
  {
   "cell_type": "code",
   "execution_count": 124,
   "metadata": {},
   "outputs": [
    {
     "data": {
      "text/html": [
       "<div>\n",
       "<style scoped>\n",
       "    .dataframe tbody tr th:only-of-type {\n",
       "        vertical-align: middle;\n",
       "    }\n",
       "\n",
       "    .dataframe tbody tr th {\n",
       "        vertical-align: top;\n",
       "    }\n",
       "\n",
       "    .dataframe thead th {\n",
       "        text-align: right;\n",
       "    }\n",
       "</style>\n",
       "<table border=\"1\" class=\"dataframe\">\n",
       "  <thead>\n",
       "    <tr style=\"text-align: right;\">\n",
       "      <th></th>\n",
       "      <th>round_1</th>\n",
       "      <th>round_2</th>\n",
       "      <th>round_3</th>\n",
       "      <th>round_4</th>\n",
       "      <th>round_5</th>\n",
       "      <th>round_6</th>\n",
       "    </tr>\n",
       "  </thead>\n",
       "  <tbody>\n",
       "    <tr>\n",
       "      <th>Sue</th>\n",
       "      <td>55</td>\n",
       "      <td>65</td>\n",
       "      <td>60</td>\n",
       "      <td>66</td>\n",
       "      <td>57</td>\n",
       "      <td>11</td>\n",
       "    </tr>\n",
       "    <tr>\n",
       "      <th>Ryan</th>\n",
       "      <td>64</td>\n",
       "      <td>77</td>\n",
       "      <td>71</td>\n",
       "      <td>79</td>\n",
       "      <td>67</td>\n",
       "      <td>15</td>\n",
       "    </tr>\n",
       "    <tr>\n",
       "      <th>Jay</th>\n",
       "      <td>88</td>\n",
       "      <td>81</td>\n",
       "      <td>79</td>\n",
       "      <td>89</td>\n",
       "      <td>77</td>\n",
       "      <td>13</td>\n",
       "    </tr>\n",
       "    <tr>\n",
       "      <th>Jane</th>\n",
       "      <td>45</td>\n",
       "      <td>35</td>\n",
       "      <td>30</td>\n",
       "      <td>46</td>\n",
       "      <td>47</td>\n",
       "      <td>17</td>\n",
       "    </tr>\n",
       "    <tr>\n",
       "      <th>Anna</th>\n",
       "      <td>91</td>\n",
       "      <td>96</td>\n",
       "      <td>90</td>\n",
       "      <td>97</td>\n",
       "      <td>99</td>\n",
       "      <td>19</td>\n",
       "    </tr>\n",
       "  </tbody>\n",
       "</table>\n",
       "</div>"
      ],
      "text/plain": [
       "      round_1  round_2  round_3  round_4  round_5  round_6\n",
       "Sue        55       65       60       66       57       11\n",
       "Ryan       64       77       71       79       67       15\n",
       "Jay        88       81       79       89       77       13\n",
       "Jane       45       35       30       46       47       17\n",
       "Anna       91       96       90       97       99       19"
      ]
     },
     "metadata": {},
     "output_type": "display_data"
    },
    {
     "data": {
      "text/html": [
       "<div>\n",
       "<style scoped>\n",
       "    .dataframe tbody tr th:only-of-type {\n",
       "        vertical-align: middle;\n",
       "    }\n",
       "\n",
       "    .dataframe tbody tr th {\n",
       "        vertical-align: top;\n",
       "    }\n",
       "\n",
       "    .dataframe thead th {\n",
       "        text-align: right;\n",
       "    }\n",
       "</style>\n",
       "<table border=\"1\" class=\"dataframe\">\n",
       "  <thead>\n",
       "    <tr style=\"text-align: right;\">\n",
       "      <th></th>\n",
       "      <th>round_1</th>\n",
       "      <th>round_2</th>\n",
       "      <th>round_3</th>\n",
       "      <th>round_4</th>\n",
       "      <th>round_5</th>\n",
       "      <th>round_6</th>\n",
       "    </tr>\n",
       "  </thead>\n",
       "  <tbody>\n",
       "    <tr>\n",
       "      <th>mean</th>\n",
       "      <td>68.6</td>\n",
       "      <td>70.8</td>\n",
       "      <td>66.0</td>\n",
       "      <td>75.4</td>\n",
       "      <td>69.4</td>\n",
       "      <td>15.0</td>\n",
       "    </tr>\n",
       "    <tr>\n",
       "      <th>max</th>\n",
       "      <td>91.0</td>\n",
       "      <td>96.0</td>\n",
       "      <td>90.0</td>\n",
       "      <td>97.0</td>\n",
       "      <td>99.0</td>\n",
       "      <td>19.0</td>\n",
       "    </tr>\n",
       "    <tr>\n",
       "      <th>min</th>\n",
       "      <td>45.0</td>\n",
       "      <td>35.0</td>\n",
       "      <td>30.0</td>\n",
       "      <td>46.0</td>\n",
       "      <td>47.0</td>\n",
       "      <td>11.0</td>\n",
       "    </tr>\n",
       "  </tbody>\n",
       "</table>\n",
       "</div>"
      ],
      "text/plain": [
       "      round_1  round_2  round_3  round_4  round_5  round_6\n",
       "mean     68.6     70.8     66.0     75.4     69.4     15.0\n",
       "max      91.0     96.0     90.0     97.0     99.0     19.0\n",
       "min      45.0     35.0     30.0     46.0     47.0     11.0"
      ]
     },
     "metadata": {},
     "output_type": "display_data"
    }
   ],
   "source": [
    "idx = [\"Sue\", \"Ryan\", \"Jay\", \"Jane\", \"Anna\"]\n",
    "col = [\"round_1\", \"round_2\", \"round_3\", \"round_4\", \"round_5\"]\n",
    "data = [[55, 65, 60, 66, 57],\n",
    "        [64, 77, 71, 79, 67],\n",
    "        [88, 81, 79, 89, 77],\n",
    "        [45, 35, 30, 46, 47],\n",
    "        [91, 96, 90, 97, 99]]\n",
    "\n",
    "df = pd.DataFrame(index=idx, columns=col, data=data)\n",
    "\n",
    "df[\"round_6\"] = [11, 15, 13, 17, 19]\n",
    "\n",
    "info_data = []\n",
    "info_data.append(df.mean().to_list())\n",
    "info_data.append(df.max().to_list())\n",
    "info_data.append(df.min().to_list())\n",
    "\n",
    "df_info = pd.DataFrame(index=[\"mean\", \"max\", \"min\"], columns=df.columns, data=info_data)\n",
    "\n",
    "display(df)\n",
    "display(df_info)"
   ]
  },
  {
   "attachments": {},
   "cell_type": "markdown",
   "metadata": {},
   "source": [
    "📌Q4. 이번 미션부터는 Matplotlib을 이용해 간단히 그래프를 출력해보도록 하겠습니다. 다음과 같은 데이터 t가 주어져있을때, 출력 예시로 제안된 그래프를 출력해보세요.\n",
    "\n",
    "- Plot 함수 내 각 마커의 색상과 모양을 표현하는 방법을 확인해보세요."
   ]
  },
  {
   "cell_type": "code",
   "execution_count": 125,
   "metadata": {},
   "outputs": [
    {
     "data": {
      "image/png": "[encoded data removed]",
      "text/plain": [
       "<Figure size 640x480 with 1 Axes>"
      ]
     },
     "metadata": {},
     "output_type": "display_data"
    }
   ],
   "source": [
    "t = np.arange(0., 5., 0.2)\n",
    "plt.plot(t, t, 'r--', t, t**2, 'gs', t, t**3, 'b^')\n",
    "plt.show()"
   ]
  },
  {
   "attachments": {},
   "cell_type": "markdown",
   "metadata": {},
   "source": [
    "📌Q5. Matplotlib을 이용해서 아래와 같은 데이터가 주어졌을때, 출력 예시와 같은 형태로 그래프를 출력해보세요.\n",
    "\n",
    "- 각 그룹별 데이터를 다른 형식의 그래프로 생성해보세요. 각각 막대, 점, 선 그래프입니다."
   ]
  },
  {
   "cell_type": "code",
   "execution_count": 126,
   "metadata": {},
   "outputs": [
    {
     "data": {
      "text/plain": [
       "[<matplotlib.lines.Line2D at 0x1d3e50b0640>]"
      ]
     },
     "execution_count": 126,
     "metadata": {},
     "output_type": "execute_result"
    },
    {
     "data": {
      "image/png": "[encoded data removed]",
      "text/plain": [
       "<Figure size 900x300 with 3 Axes>"
      ]
     },
     "metadata": {},
     "output_type": "display_data"
    }
   ],
   "source": [
    "names = [\"group_a\", \"group_b\", \"group_c\"]\n",
    "values = [1, 10, 100]\n",
    "\n",
    "plt.figure(figsize=(9,3))\n",
    "\n",
    "plt.subplot(1,3,1)\n",
    "plt.bar(names, values)\n",
    "\n",
    "plt.subplot(1,3,2)\n",
    "plt.scatter(names, values)\n",
    "\n",
    "plt.subplot(1,3,3)\n",
    "plt.plot(names, values)"
   ]
  },
  {
   "cell_type": "code",
   "execution_count": null,
   "metadata": {},
   "outputs": [],
   "source": []
  }
 ],
 "metadata": {
  "kernelspec": {
   "display_name": "tf",
   "language": "python",
   "name": "python3"
  },
  "language_info": {
   "codemirror_mode": {
    "name": "ipython",
    "version": 3
   },
   "file_extension": ".py",
   "mimetype": "text/x-python",
   "name": "python",
   "nbconvert_exporter": "python",
   "pygments_lexer": "ipython3",
   "version": "3.9.13"
  },
  "orig_nbformat": 4,
  "vscode": {
   "interpreter": {
    "hash": "d92db622cb5bb78c2c77e21c3317885bdf8c1e85044705cff7d629a77fb46d17"
   }
  }
 },
 "nbformat": 4,
 "nbformat_minor": 2
}
